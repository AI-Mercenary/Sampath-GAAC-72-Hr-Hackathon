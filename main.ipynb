{
 "cells": [
  {
   "cell_type": "code",
   "execution_count": null,
   "metadata": {},
   "outputs": [],
   "source": [
    "!pip install torch torchvision torchaudio transformers opencv-python-headless moviepy pillow reportlab yt-dlp google-api-python-client nbformat nbconvert psutil"
   ]
  },
  {
   "cell_type": "code",
   "execution_count": null,
   "metadata": {},
   "outputs": [],
   "source": [
    "import yt_dlp\n",
    "import torch\n",
    "import librosa\n",
    "from transformers import Wav2Vec2Processor, Wav2Vec2ForCTC, pipeline\n",
    "from reportlab.pdfgen import canvas\n",
    "from reportlab.lib.pagesizes import letter\n",
    "import os\n",
    "import psutil\n"
   ]
  },
  {
   "cell_type": "code",
   "execution_count": null,
   "metadata": {},
   "outputs": [],
   "source": [
    "def download_audio_from_youtube(link, output_path):\n",
    "    ydl_opts = {\n",
    "        'format': 'bestaudio/best',\n",
    "        'outtmpl': output_path,\n",
    "        'quiet': True,\n",
    "        'postprocessors': [{\n",
    "            'key': 'FFmpegExtractAudio',\n",
    "            'preferredcodec': 'wav',\n",
    "            'preferredquality': '192',\n",
    "        }],\n",
    "    }\n",
    "    with yt_dlp.YoutubeDL(ydl_opts) as ydl:\n",
    "        ydl.download([link])\n",
    "    print(f\"Audio downloaded and saved at {output_path}\")\n"
   ]
  },
  {
   "cell_type": "code",
   "execution_count": null,
   "metadata": {},
   "outputs": [],
   "source": [
    "def print_memory_usage():\n",
    "    process = psutil.Process(os.getpid())\n",
    "    print(f\"Memory usage: {process.memory_info().rss / 1024 ** 2:.2f} MB\")\n"
   ]
  },
  {
   "cell_type": "code",
   "execution_count": null,
   "metadata": {},
   "outputs": [],
   "source": [
    "def transcribe_audio_with_huggingface(audio_path, batch_size=30):\n",
    "    print_memory_usage()\n",
    "    print(\"Loading the model...\")\n",
    "    processor = Wav2Vec2Processor.from_pretrained(\"facebook/wav2vec2-base-960h\")\n",
    "    model = Wav2Vec2ForCTC.from_pretrained(\"facebook/wav2vec2-base-960h\")\n",
    "    print_memory_usage()\n",
    "\n",
    "    print(\"Processing audio...\")\n",
    "    audio, rate = librosa.load(audio_path, sr=16000)\n",
    "    total_length = len(audio)\n",
    "    transcription = \"\"\n",
    "\n",
    "    for i in range(0, total_length, batch_size * rate):\n",
    "        batch_audio = audio[i:i + batch_size * rate]\n",
    "        if len(batch_audio) == 0:\n",
    "            break\n",
    "        input_values = processor(batch_audio, sampling_rate=rate, return_tensors=\"pt\").input_values\n",
    "        print_memory_usage()\n",
    "\n",
    "        print(\"Transcribing audio batch...\")\n",
    "        logits = model(input_values).logits\n",
    "        predicted_ids = torch.argmax(logits, dim=-1)\n",
    "        batch_transcription = processor.decode(predicted_ids[0])\n",
    "        transcription += batch_transcription + \" \"\n",
    "\n",
    "        # Clear intermediate data\n",
    "        del batch_audio, input_values, logits, predicted_ids\n",
    "        torch.cuda.empty_cache()\n",
    "        print_memory_usage()\n",
    "\n",
    "    return transcription.strip()\n"
   ]
  },
  {
   "cell_type": "code",
   "execution_count": null,
   "metadata": {},
   "outputs": [],
   "source": [
    "def generate_text_file_from_transcription(transcription, output_text_path):\n",
    "    print(\"Generating text file...\")\n",
    "    with open(output_text_path, 'w') as file:\n",
    "        file.write(\"Audio Transcription Report\\n\\n\")\n",
    "        file.write(transcription)\n",
    "    print(f\"Text file saved at {output_text_path}\")\n"
   ]
  },
  {
   "cell_type": "code",
   "execution_count": null,
   "metadata": {},
   "outputs": [],
   "source": [
    "def generate_pdf_from_text(transcription, output_pdf_path):\n",
    "    print(\"Generating PDF...\")\n",
    "    c = canvas.Canvas(output_pdf_path, pagesize=letter)\n",
    "    c.setFont(\"Helvetica\", 12)\n",
    "    c.drawString(100, 750, \"Audio Transcription Report\")\n",
    "    text_lines = transcription.split('. ')\n",
    "    y_position = 720\n",
    "    for line in text_lines:\n",
    "        if y_position < 50:  \n",
    "            c.showPage()\n",
    "            c.setFont(\"Helvetica\", 12)\n",
    "            y_position = 750\n",
    "        c.drawString(100, y_position, line.strip() + '.')\n",
    "        y_position -= 20\n",
    "    c.save()\n",
    "    print(f\"PDF saved at {output_pdf_path}\")\n"
   ]
  },
  {
   "cell_type": "code",
   "execution_count": null,
   "metadata": {},
   "outputs": [],
   "source": [
    "def extract_video_metadata(link):\n",
    "    ydl_opts = {'quiet': True}\n",
    "    with yt_dlp.YoutubeDL(ydl_opts) as ydl:\n",
    "        info = ydl.extract_info(link, download=False)\n",
    "    title = info.get(\"title\", \"No title available\")\n",
    "    description = info.get(\"description\", \"No description available\")\n",
    "    return title, description\n"
   ]
  },
  {
   "cell_type": "code",
   "execution_count": null,
   "metadata": {},
   "outputs": [],
   "source": [
    "def read_transcription_file(transcription_path):\n",
    "    with open(transcription_path, 'r') as file:\n",
    "        transcription = file.read()\n",
    "    return transcription\n"
   ]
  },
  {
   "cell_type": "code",
   "execution_count": null,
   "metadata": {},
   "outputs": [],
   "source": [
    "def summarize_text(transcription):\n",
    "    summarizer = pipeline(\"summarization\", model=\"facebook/bart-large-cnn\")\n",
    "    summary = summarizer(transcription, max_length=150, min_length=50, do_sample=False)\n",
    "    return summary[0]['summary_text']\n"
   ]
  },
  {
   "cell_type": "code",
   "execution_count": null,
   "id": "9a2be8e9",
   "metadata": {},
   "outputs": [],
   "source": [
    "def generate_pdf_from_summary(summary, output_pdf_path):\n",
    "    c = canvas.Canvas(output_pdf_path, pagesize=letter)\n",
    "    c.setFont(\"Helvetica\", 12)\n",
    "    c.drawString(100, 750, \"Summary Report\")\n",
    "    text_lines = summary.split('. ')\n",
    "    y_position = 720\n",
    "    for line in text_lines:\n",
    "        if y_position < 50:  \n",
    "            c.showPage()\n",
    "            c.setFont(\"Helvetica\", 12)\n",
    "            y_position = 750\n",
    "        c.drawString(100, y_position, line.strip() + '.')\n",
    "        y_position -= 20\n",
    "    c.save()\n",
    "    print(f\"PDF saved at {output_pdf_path}\")\n"
   ]
  },
  {
   "cell_type": "code",
   "execution_count": null,
   "metadata": {},
   "outputs": [],
   "source": [
    "def process_video(link, audio_path, text_path, pdf_path, summary_pdf_path):\n",
    "    download_audio_from_youtube(link, audio_path)\n",
    "    transcription = transcribe_audio_with_huggingface(audio_path)\n",
    "    generate_text_file_from_transcription(transcription, text_path)\n",
    "    generate_pdf_from_text(transcription, pdf_path)\n",
    "    title, description = extract_video_metadata(link)\n",
    "    transcription = read_transcription_file(text_path)\n",
    "    summary = summarize_text(title + \" \" + description + \" \" + transcription)\n",
    "    generate_pdf_from_summary(summary, summary_pdf_path)\n"
   ]
  },
  {
   "cell_type": "code",
   "execution_count": null,
   "id": "0c153489",
   "metadata": {},
   "outputs": [],
   "source": [
    "video_link = \"https://www.youtube.com/watch?v=lGgIhxYuSHM\"\n",
    "audio_file_path = \"./processed/audio_extracted.wav\"\n",
    "text_file_path = \"./processed/audio_transcription.txt\"\n",
    "pdf_file_path = \"./processed/video_summary_report.pdf\"\n",
    "summary_pdf_path = \"./processed/summary_report.pdf\"\n",
    "os.makedirs(\"./processed\", exist_ok=True)\n",
    "process_video(video_link, audio_file_path, text_file_path, pdf_file_path, summary_pdf_path)\n"
   ]
  }
 ],
 "metadata": {
  "kernelspec": {
   "display_name": "Python 3",
   "language": "python",
   "name": "python3"
  },
  "language_info": {
   "codemirror_mode": {
    "name": "ipython",
    "version": 3
   },
   "file_extension": ".py",
   "mimetype": "text/x-python",
   "name": "python",
   "nbconvert_exporter": "python",
   "pygments_lexer": "ipython3",
   "version": "3.8.5"
  }
 },
 "nbformat": 4,
 "nbformat_minor": 5
}
