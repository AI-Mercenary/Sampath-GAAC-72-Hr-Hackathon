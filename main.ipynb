{
 "cells": [
  {
   "cell_type": "code",
   "execution_count": null,
   "metadata": {},
   "outputs": [],
   "source": [
    "!pip install torch torchvision torchaudio transformers opencv-python-headless moviepy pillow reportlab yt-dlp google-api-python-client nbformat nbconvert psutil"
   ]
  },
  {
   "cell_type": "code",
   "execution_count": null,
   "metadata": {},
   "outputs": [],
   "source": [
    "import yt_dlp\n",
    "import torch\n",
    "import librosa\n",
    "from transformers import Wav2Vec2Processor, Wav2Vec2ForCTC, pipeline\n",
    "import os\n",
    "import psutil\n"
   ]
  },
  {
   "cell_type": "code",
   "execution_count": null,
   "metadata": {},
   "outputs": [],
   "source": [
    "def download_audio_from_youtube(link, output_path):\n",
    "    ydl_opts = {\n",
    "        'format': 'bestaudio/best',\n",
    "        'outtmpl': output_path,\n",
    "        'quiet': True,\n",
    "        'postprocessors': [{\n",
    "            'key': 'FFmpegExtractAudio',\n",
    "            'preferredcodec': 'wav',\n",
    "            'preferredquality': '192',\n",
    "        }],\n",
    "    }\n",
    "    with yt_dlp.YoutubeDL(ydl_opts) as ydl:\n",
    "        ydl.download([link])\n",
    "    print(f\"Audio downloaded and saved at {output_path}\")\n"
   ]
  },
  {
   "cell_type": "code",
   "execution_count": null,
   "metadata": {},
   "outputs": [],
   "source": [
    "def print_memory_usage():\n",
    "    process = psutil.Process(os.getpid())\n",
    "    print(f\"Memory usage: {process.memory_info().rss / 1024 ** 2:.2f} MB\")\n"
   ]
  },
  {
   "cell_type": "code",
   "execution_count": null,
   "metadata": {},
   "outputs": [],
   "source": [
    "def transcribe_audio_with_huggingface(audio_path, batch_size=30):\n",
    "    print_memory_usage()\n",
    "    print(\"Loading the model...\")\n",
    "    processor = Wav2Vec2Processor.from_pretrained(\"facebook/wav2vec2-base-960h\")\n",
    "    model = Wav2Vec2ForCTC.from_pretrained(\"facebook/wav2vec2-base-960h\")\n",
    "    print_memory_usage()\n",
    "\n",
    "    print(\"Processing audio...\")\n",
    "    audio, rate = librosa.load(audio_path, sr=16000)\n",
    "    total_length = len(audio)\n",
    "    transcription = \"\"\n",
    "\n",
    "    for i in range(0, total_length, batch_size * rate):\n",
    "        batch_audio = audio[i:i + batch_size * rate]\n",
    "        if len(batch_audio) == 0:\n",
    "            break\n",
    "        input_values = processor(batch_audio, sampling_rate=rate, return_tensors=\"pt\").input_values\n",
    "        print_memory_usage()\n",
    "\n",
    "        print(\"Transcribing audio batch...\")\n",
    "        logits = model(input_values).logits\n",
    "        predicted_ids = torch.argmax(logits, dim=-1)\n",
    "        if predicted_ids.max() >= model.config.vocab_size:\n",
    "            print(f\"Warning: Predicted ID {predicted_ids.max()} is out of range.\")\n",
    "            continue\n",
    "        batch_transcription = processor.decode(predicted_ids[0])\n",
    "        transcription += batch_transcription + \" \"\n",
    "\n",
    "        # Clear intermediate data\n",
    "        del batch_audio, input_values, logits, predicted_ids\n",
    "        torch.cuda.empty_cache()\n",
    "        print_memory_usage()\n",
    "\n",
    "    return transcription.strip()\n"
   ]
  },
  {
   "cell_type": "code",
   "execution_count": null,
   "metadata": {},
   "outputs": [],
   "source": [
    "def generate_text_file_from_transcription(transcription, output_text_path):\n",
    "    print(\"Generating text file...\")\n",
    "    with open(output_text_path, 'w') as file:\n",
    "        file.write(\"Audio Transcription Report\\n\\n\")\n",
    "        file.write(transcription)\n",
    "    print(f\"Text file saved at {output_text_path}\")\n"
   ]
  },
  {
   "cell_type": "code",
   "execution_count": null,
   "metadata": {},
   "outputs": [],
   "source": [
    "def extract_video_metadata(link):\n",
    "    ydl_opts = {'quiet': True}\n",
    "    with yt_dlp.YoutubeDL(ydl_opts) as ydl:\n",
    "        info = ydl.extract_info(link, download=False)\n",
    "    title = info.get(\"title\", \"No title available\")\n",
    "    description = info.get(\"description\", \"No description available\")\n",
    "    return title, description\n"
   ]
  },
  {
   "cell_type": "code",
   "execution_count": null,
   "metadata": {},
   "outputs": [],
   "source": [
    "def read_transcription_file(transcription_path):\n",
    "    with open(transcription_path, 'r') as file:\n",
    "        transcription = file.read()\n",
    "    return transcription\n"
   ]
  },
  {
   "cell_type": "code",
   "execution_count": null,
   "metadata": {},
   "outputs": [],
   "source": [
    "def summarize_text_chunk(chunk, title, description):\n",
    "    summarizer = pipeline(\"summarization\", model=\"facebook/bart-large-cnn\")\n",
    "    text = \"Title: \" + title + \" Description: \" + description + \" transcript chunk: \" + chunk\n",
    "    summary = summarizer(text, max_length=150, min_length=50, do_sample=False)\n",
    "    return summary[0]['summary_text']\n"
   ]
  },
  {
   "cell_type": "code",
   "execution_count": null,
   "id": "9a2be8e9",
   "metadata": {},
   "outputs": [],
   "source": [
    "def generate_text_file_from_summary(summary, output_text_path):\n",
    "    print(\"Generating summary text file...\")\n",
    "    with open(output_text_path, 'w') as file:\n",
    "        file.write(\"Summary Report\\n\\n\")\n",
    "        points = summary.split('. ')\n",
    "        for point in points:\n",
    "            file.write(f\"- {point.strip()}.\\n\")\n",
    "    print(f\"Summary text file saved at {output_text_path}\")\n"
   ]
  },
  {
   "cell_type": "code",
   "execution_count": null,
   "metadata": {},
   "outputs": [],
   "source": [
    "def process_video(link, audio_path, audio_file_path_creation, text_path, summary_text_path):\n",
    "    download_audio_from_youtube(link, audio_file_path_creation)\n",
    "    transcription = transcribe_audio_with_huggingface(audio_path)\n",
    "    generate_text_file_from_transcription(transcription, text_path)\n",
    "    title, description = extract_video_metadata(link)\n",
    "    transcription = read_transcription_file(text_path)\n",
    "    chunks = [transcription[i:i + 1000] for i in range(0, len(transcription), 1000)]\n",
    "    final_summary = \"\"\n",
    "    for chunk in chunks:\n",
    "        summary = summarize_text_chunk(chunk, title, description)\n",
    "        final_summary += summary + \" \"\n",
    "    final_summary = summarize_text_chunk(final_summary, title, description)\n",
    "    generate_text_file_from_summary(final_summary.strip(), summary_text_path)\n"
   ]
  },
  {
   "cell_type": "code",
   "execution_count": null,
   "id": "0c153489",
   "metadata": {},
   "outputs": [],
   "source": [
    "video_link = \"https://www.youtube.com/watch?v=0oGJTQCy4cQ\"\n",
    "audio_file_path = \"./processed/audio_extracted.wav\"\n",
    "audio_file_path_creation = \"./processed/audio_extracted\"\n",
    "text_file_path = \"./processed/audio_transcription.txt\"\n",
    "summary_text_path = \"./processed/summary_report.txt\"\n",
    "os.makedirs(\"./processed\", exist_ok=True)\n",
    "process_video(video_link, audio_file_path, audio_file_path_creation, text_file_path, summary_text_path)\n"
   ]
  }
 ],
 "metadata": {
  "kernelspec": {
   "display_name": "Python 3",
   "language": "python",
   "name": "python3"
  },
  "language_info": {
   "codemirror_mode": {
    "name": "ipython",
    "version": 3
   },
   "file_extension": ".py",
   "mimetype": "text/x-python",
   "name": "python",
   "nbconvert_exporter": "python",
   "pygments_lexer": "ipython3",
   "version": "3.8.5"
  }
 },
 "nbformat": 4,
 "nbformat_minor": 5
}
